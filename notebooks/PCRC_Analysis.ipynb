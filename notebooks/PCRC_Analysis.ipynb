from scripts.audio_analyzer import PCRCAnalyzer  
from scripts.visualization import PCRCVisualizer  

# Analyze "Bismillah"  
track = PCRCAnalyzer("data/raw_tracks/bismillah.mp3")  
features = track.get_custom_features()  

# Generate visualization  
viz = PCRCVisualizer()  
plt = viz.plot_genre_radar({  
    'Jazz Influence': 0.82,  
    'Bollywood Samples': 0.67,  
    'Lo-Fi Noise': 0.91,  
    'Psych Intensity': 0.75  
})  
plt.savefig('bismillah_radar.png')  